{
 "cells": [
  {
   "cell_type": "code",
   "execution_count": 2,
   "metadata": {},
   "outputs": [],
   "source": [
    "#!/usr/bin/env python\n",
    "#\n",
    "# deepzoom_server - Example web application for serving whole-slide images\n",
    "#\n",
    "# Copyright (c) 2010-2015 Carnegie Mellon University\n",
    "#\n",
    "# This library is free software; you can redistribute it and/or modify it\n",
    "# under the terms of version 2.1 of the GNU Lesser General Public License\n",
    "# as published by the Free Software Foundation.\n",
    "#\n",
    "# This library is distributed in the hope that it will be useful, but\n",
    "# WITHOUT ANY WARRANTY; without even the implied warranty of MERCHANTABILITY\n",
    "# or FITNESS FOR A PARTICULAR PURPOSE.  See the GNU Lesser General Public\n",
    "# License for more details.\n",
    "#\n",
    "# You should have received a copy of the GNU Lesser General Public License\n",
    "# along with this library; if not, write to the Free Software Foundation,\n",
    "# Inc., 51 Franklin Street, Fifth Floor, Boston, MA 02110-1301 USA.\n",
    "#\n",
    "\n",
    "from flask import Flask, abort, make_response, render_template, url_for\n",
    "from io import BytesIO\n",
    "import openslide\n",
    "from openslide import ImageSlide, open_slide\n",
    "from openslide.deepzoom import DeepZoomGenerator\n",
    "from optparse import OptionParser\n",
    "import re\n",
    "from unicodedata import normalize"
   ]
  },
  {
   "cell_type": "code",
   "execution_count": 3,
   "metadata": {},
   "outputs": [
    {
     "name": "stderr",
     "output_type": "stream",
     "text": [
      "Usage: ipykernel_launcher.py [options] [slide]\n",
      "\n",
      "ipykernel_launcher.py: error: No slide file specified\n"
     ]
    },
    {
     "ename": "SystemExit",
     "evalue": "2",
     "output_type": "error",
     "traceback": [
      "An exception has occurred, use %tb to see the full traceback.\n",
      "\u001b[0;31mSystemExit\u001b[0m\u001b[0;31m:\u001b[0m 2\n"
     ]
    },
    {
     "name": "stderr",
     "output_type": "stream",
     "text": [
      "/Users/swapnil/anaconda3/lib/python3.6/site-packages/IPython/core/interactiveshell.py:2971: UserWarning: To exit: use 'exit', 'quit', or Ctrl-D.\n",
      "  warn(\"To exit: use 'exit', 'quit', or Ctrl-D.\", stacklevel=1)\n"
     ]
    }
   ],
   "source": []
  },
  {
   "cell_type": "code",
   "execution_count": null,
   "metadata": {},
   "outputs": [],
   "source": []
  }
 ],
 "metadata": {
  "kernelspec": {
   "display_name": "Python 3",
   "language": "python",
   "name": "python3"
  },
  "language_info": {
   "codemirror_mode": {
    "name": "ipython",
    "version": 3
   },
   "file_extension": ".py",
   "mimetype": "text/x-python",
   "name": "python",
   "nbconvert_exporter": "python",
   "pygments_lexer": "ipython3",
   "version": "3.6.5"
  }
 },
 "nbformat": 4,
 "nbformat_minor": 2
}
